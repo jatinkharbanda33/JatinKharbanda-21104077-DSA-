{
 "cells": [
  {
   "cell_type": "code",
   "execution_count": 1,
   "id": "68b606d9",
   "metadata": {},
   "outputs": [
    {
     "name": "stdout",
     "output_type": "stream",
     "text": [
      "My Family <--> Name - Harish Kumar Kharbanda, age - 51, relation - Dad <--> Name - Jatin, age - 20, relation - me <--> Name - Chiranjeev, age - 20, relation - brother <--> Name - Asha Rani, age - 50, relation - Mom \n"
     ]
    }
   ],
   "source": [
    "\n",
    "class Node:\n",
    "    def __init__(self,Name,relation,Age): \n",
    "        self.data1=Name\n",
    "        self.data3=Age\n",
    "        self.data2=relation\n",
    "        self.next=None\n",
    "        self.prev=None\n",
    "\n",
    "class Family:\n",
    "    def __init__(self):\n",
    "        self.head=None\n",
    "        \n",
    "    def append(self,data1,data2,data3):\n",
    "       if self.head is None:\n",
    "           newnode=Node(data1,data2,data3)\n",
    "           newnode.prev=None\n",
    "           self.head=newnode\n",
    "        #    if the list has no nodes and is empty, we create a new node with the given data and make sure its prev. pointer is empty, then give head the value of that node,\n",
    "       else:\n",
    "           newnode=Node(data1,data2,data3)\n",
    "           cur=self.head\n",
    "           while cur.next:\n",
    "               cur=cur.next\n",
    "           cur.next=newnode \n",
    "           newnode.prev=cur\n",
    "           newnode.next=None\n",
    "        #    list has nodes, we traverse from head till the next node is none, then we give the cur.next the address of newnode, and newnode.prev address of curr node and newnode's next to none\n",
    "        \n",
    "    def prepend(self,data1,data2,data3):\n",
    "        if self.head is None:\n",
    "            newnode=Node(data1,data2,data3)\n",
    "            self.head=newnode\n",
    "            newnode.prev=None\n",
    "            # no element puttiong first\n",
    "        else:\n",
    "            newnode=Node(data1,data2,data3)\n",
    "            cur=self.head\n",
    "            cur.prev=newnode\n",
    "            newnode.next=cur\n",
    "            newnode.prev=None\n",
    "            self.head=newnode\n",
    "            # if there is atleast one element, the head node's prev should point to new, new;s next points to head, new trhen becomes head, it's prev becomes none\n",
    "            \n",
    "    def print(self):\n",
    "        str1=\"\"\n",
    "        cur=self.head\n",
    "        \n",
    "        while cur:\n",
    "            str1+=\"<--> \"+\"Name - \" +str(cur.data1)+\", age - \"+str(cur.data3)+\", \" +\"relation - \"+str(cur.data2) + \" \"\n",
    "            cur=cur.next\n",
    "        print(\"My Family\",str1)\n",
    "dllist=Family()\n",
    "dllist.append(\"Jatin\",\"me\",20)\n",
    "dllist.append(\"Chiranjeev\",\"brother\",20)\n",
    "dllist.append(\"Asha Rani\",\"Mom\",50)\n",
    "\n",
    "dllist.prepend(\"Harish Kumar Kharbanda\",\"Dad\",51)\n",
    "\n",
    "dllist.print()"
   ]
  },
  {
   "cell_type": "code",
   "execution_count": null,
   "id": "4e828ace",
   "metadata": {},
   "outputs": [],
   "source": []
  }
 ],
 "metadata": {
  "kernelspec": {
   "display_name": "Python 3.10.1 64-bit",
   "language": "python",
   "name": "python3"
  },
  "language_info": {
   "codemirror_mode": {
    "name": "ipython",
    "version": 3
   },
   "file_extension": ".py",
   "mimetype": "text/x-python",
   "name": "python",
   "nbconvert_exporter": "python",
   "pygments_lexer": "ipython3",
   "version": "3.10.1"
  },
  "vscode": {
   "interpreter": {
    "hash": "c82a484c39ee336b14bc8f113fe783d956cdb480956dd1c50d6c3a3f69610681"
   }
  }
 },
 "nbformat": 4,
 "nbformat_minor": 5
}
